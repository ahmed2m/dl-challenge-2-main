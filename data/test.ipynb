{
 "cells": [
  {
   "cell_type": "code",
   "execution_count": 1,
   "metadata": {},
   "outputs": [],
   "source": [
    "from util import get_month_tag, get_day_tag\n"
   ]
  },
  {
   "cell_type": "code",
   "execution_count": 8,
   "metadata": {},
   "outputs": [
    {
     "data": {
      "text/plain": [
       "['[WED]', '[THU]', '[FRI]', '[SAT]', '[SUN]', '[MON]', '[TUE]']"
      ]
     },
     "execution_count": 8,
     "metadata": {},
     "output_type": "execute_result"
    }
   ],
   "source": [
    "get_day_tag((1, 1, 1800))\n",
    "\n",
    "def gen_all_day_tags():\n",
    "    days = []\n",
    "    for i in range(1, 8):\n",
    "        days.append(get_day_tag((i, 1, 1800)))\n",
    "\n",
    "    return days\n",
    "\n",
    "gen_all_day_tags()"
   ]
  },
  {
   "cell_type": "code",
   "execution_count": 9,
   "metadata": {},
   "outputs": [
    {
     "data": {
      "text/plain": [
       "['[JAN]',\n",
       " '[FEB]',\n",
       " '[MAR]',\n",
       " '[APR]',\n",
       " '[MAY]',\n",
       " '[JUN]',\n",
       " '[JUL]',\n",
       " '[AUG]',\n",
       " '[SEP]',\n",
       " '[OCT]',\n",
       " '[NOV]',\n",
       " '[DEC]']"
      ]
     },
     "execution_count": 9,
     "metadata": {},
     "output_type": "execute_result"
    }
   ],
   "source": [
    "months = []\n",
    "for i in range(1, 13):\n",
    "    months.append(get_month_tag((1, i, 1800)))\n",
    "months"
   ]
  },
  {
   "cell_type": "code",
   "execution_count": 9,
   "metadata": {},
   "outputs": [],
   "source": [
    "import pickle\n",
    "\n",
    "with open('tokenized_data.pkl', 'rb') as handle:\n",
    "    b = pickle.load(handle)\n"
   ]
  },
  {
   "cell_type": "code",
   "execution_count": 11,
   "metadata": {},
   "outputs": [
    {
     "data": {
      "text/plain": [
       "146462"
      ]
     },
     "execution_count": 11,
     "metadata": {},
     "output_type": "execute_result"
    }
   ],
   "source": [
    "len(b['input_ids'])"
   ]
  },
  {
   "cell_type": "code",
   "execution_count": 11,
   "metadata": {},
   "outputs": [],
   "source": [
    "import pickle\n",
    "\n",
    "with open('source_tokenizer/tokenized_input.pkl', 'rb') as handle:\n",
    "    b = pickle.load(handle)\n",
    "\n",
    "with open('target_tokenizer/tokenized_output.pkl', 'rb') as handle:\n",
    "    c = pickle.load(handle)\n"
   ]
  },
  {
   "cell_type": "code",
   "execution_count": 12,
   "metadata": {},
   "outputs": [
    {
     "data": {
      "text/plain": [
       "tensor([ 1,  4, 13,  4, 11,  3,  3,  2,  0])"
      ]
     },
     "execution_count": 12,
     "metadata": {},
     "output_type": "execute_result"
    }
   ],
   "source": [
    "c[0]"
   ]
  },
  {
   "cell_type": "code",
   "execution_count": 10,
   "metadata": {},
   "outputs": [
    {
     "data": {
      "text/plain": [
       "tensor([ 1, 31, 15, 35, 13,  4, 11,  3, 14,  2])"
      ]
     },
     "execution_count": 10,
     "metadata": {},
     "output_type": "execute_result"
    }
   ],
   "source": [
    "b[0]"
   ]
  },
  {
   "cell_type": "code",
   "execution_count": 24,
   "metadata": {},
   "outputs": [],
   "source": [
    "from tokenization import get_all_special_tokens\n",
    "from transformers import RobertaTokenizer"
   ]
  },
  {
   "cell_type": "code",
   "execution_count": 25,
   "metadata": {},
   "outputs": [
    {
     "name": "stderr",
     "output_type": "stream",
     "text": [
      "Special tokens have been added in the vocabulary, make sure the associated word embeddings are fine-tuned or trained.\n"
     ]
    }
   ],
   "source": [
    "\n",
    "special_dict, special_tokens = get_all_special_tokens()\n",
    "tokenizer_bpe = RobertaTokenizer.from_pretrained(\n",
    "    \"tokens\",\n",
    "    do_lower_case=False,\n",
    "    eos_token=special_dict[\"eos_token\"],\n",
    "    pad_token=special_dict[\"pad_token\"],\n",
    "    additional_special_tokens=special_tokens,\n",
    ")"
   ]
  },
  {
   "cell_type": "code",
   "execution_count": 29,
   "metadata": {},
   "outputs": [
    {
     "name": "stdout",
     "output_type": "stream",
     "text": [
      "[STR][THU][JAN][False][180][END]\n",
      "[STR] [THU] [JAN] [False] [ 1 8 0 ] [END] "
     ]
    }
   ],
   "source": [
    "print(tokenizer_bpe.decode(b[1]))\n",
    "for x in b[1]:\n",
    "    print(tokenizer_bpe.decode(x), end=\" \")"
   ]
  },
  {
   "cell_type": "code",
   "execution_count": 32,
   "metadata": {},
   "outputs": [
    {
     "name": "stdout",
     "output_type": "stream",
     "text": [
      "[STR]1-1-1801[END][PAD]\n",
      "[STR] 1 -1- 1 8 0 1 [END] [PAD] "
     ]
    }
   ],
   "source": [
    "print(tokenizer_bpe.decode(c[1]))\n",
    "for x in c[1]:\n",
    "    print(tokenizer_bpe.decode(x), end=\" \")"
   ]
  },
  {
   "cell_type": "code",
   "execution_count": null,
   "metadata": {},
   "outputs": [],
   "source": []
  }
 ],
 "metadata": {
  "interpreter": {
   "hash": "e7370f93d1d0cde622a1f8e1c04877d8463912d04d973331ad4851f04de6915a"
  },
  "kernelspec": {
   "display_name": "Python 3.10.4 64-bit",
   "language": "python",
   "name": "python3"
  },
  "language_info": {
   "codemirror_mode": {
    "name": "ipython",
    "version": 3
   },
   "file_extension": ".py",
   "mimetype": "text/x-python",
   "name": "python",
   "nbconvert_exporter": "python",
   "pygments_lexer": "ipython3",
   "version": "3.10.4"
  },
  "orig_nbformat": 4
 },
 "nbformat": 4,
 "nbformat_minor": 2
}
